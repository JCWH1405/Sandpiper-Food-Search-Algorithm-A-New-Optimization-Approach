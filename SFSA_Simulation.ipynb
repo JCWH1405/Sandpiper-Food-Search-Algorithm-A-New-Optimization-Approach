{
  "nbformat": 4,
  "nbformat_minor": 0,
  "metadata": {
    "colab": {
      "provenance": []
    },
    "kernelspec": {
      "name": "python3",
      "display_name": "Python 3"
    },
    "language_info": {
      "name": "python"
    }
  },
  "cells": [
    {
      "cell_type": "markdown",
      "source": [
        "##Import"
      ],
      "metadata": {
        "id": "kb51Pw-4Hr6B"
      }
    },
    {
      "cell_type": "code",
      "execution_count": 1,
      "metadata": {
        "id": "-FZQU8KmPuV8"
      },
      "outputs": [],
      "source": [
        "import random\n",
        "import math\n",
        "import matplotlib.pyplot as plt\n",
        "import matplotlib.animation as animation\n",
        "import numpy as np\n",
        "import pandas as pd\n",
        "import time"
      ]
    },
    {
      "cell_type": "markdown",
      "source": [
        "## Benchmark functions"
      ],
      "metadata": {
        "id": "ulDUk69KFumR"
      }
    },
    {
      "cell_type": "markdown",
      "source": [
        "**Holder Table**"
      ],
      "metadata": {
        "id": "EQHVraJkI-Ya"
      }
    },
    {
      "cell_type": "code",
      "source": [
        "def holder_table(x):\n",
        "    return -1 * np.abs(np.sin(x[0]) * np.cos(x[1]) * np.exp(np.abs(1 - np.sqrt(x[0]**2 + x[1]**2) / np.pi)))"
      ],
      "metadata": {
        "id": "YyMmEEeMI9vt"
      },
      "execution_count": 2,
      "outputs": []
    },
    {
      "cell_type": "markdown",
      "metadata": {
        "id": "1oIdBI63VfZm"
      },
      "source": [
        "**Ackley**"
      ]
    },
    {
      "cell_type": "code",
      "source": [
        "def ackley(x):\n",
        "    a = 20\n",
        "    b = 0.2\n",
        "    c = 2*np.pi\n",
        "    n = len(x)\n",
        "    return -a * np.exp(-b * np.sqrt(1/n * (x[0]**2 + x[1]**2))) - np.exp(1/n * (np.cos(c * x[0]) + np.cos(c * x[1]))) + np.e + a"
      ],
      "metadata": {
        "id": "mWT3i585NoF4"
      },
      "execution_count": 3,
      "outputs": []
    },
    {
      "cell_type": "markdown",
      "metadata": {
        "id": "PVQDiXgzVfZp"
      },
      "source": [
        "**Rosenbrock**"
      ]
    },
    {
      "cell_type": "code",
      "execution_count": 4,
      "metadata": {
        "id": "J32JUXDrVfZp"
      },
      "outputs": [],
      "source": [
        "def rosenbrock(x):\n",
        "    ans=0.0\n",
        "    for i in range(min(len(x),16)):\n",
        "        ans+=(100.0*(x[i]-x[i]**2)**2 + (1-x[i])**2)\n",
        "    return ans"
      ]
    },
    {
      "cell_type": "markdown",
      "metadata": {
        "id": "xdA5XT6hVfZq"
      },
      "source": [
        "**Griewank**"
      ]
    },
    {
      "cell_type": "code",
      "source": [
        "def griewank(x):\n",
        "    n = len(x)\n",
        "    sum_term = (x[0]**2 + x[1]**2)/ 4000.0\n",
        "    prod_term = np.cos(x[0]/np.sqrt(1)) * np.cos(x[1]/np.sqrt(2))\n",
        "    value = 1. + sum_term - prod_term\n",
        "\n",
        "    return value"
      ],
      "metadata": {
        "id": "NowYXrJZP7H6"
      },
      "execution_count": 5,
      "outputs": []
    },
    {
      "cell_type": "markdown",
      "metadata": {
        "id": "uDyHNGBpVfZr"
      },
      "source": [
        "**Rastrigin**"
      ]
    },
    {
      "cell_type": "code",
      "source": [
        "def rastrigin(x):\n",
        "    value = 0\n",
        "    for i in range(len(x)):\n",
        "        value += (x[i]**2 - 10 * np.cos(2 * np.pi * x[i]))\n",
        "    value += 10 * (len(x))\n",
        "    return value"
      ],
      "metadata": {
        "id": "RkkZIoUCn3G0"
      },
      "execution_count": 6,
      "outputs": []
    },
    {
      "cell_type": "markdown",
      "source": [
        "**Schaffer**"
      ],
      "metadata": {
        "id": "ttSDgUdwfmrc"
      }
    },
    {
      "cell_type": "code",
      "source": [
        "def schaffer_no_2(x):\n",
        "    num = np.sin(np.sqrt(x[0]**2 + x[1]**2))**2 - 0.5\n",
        "    denom = 1 + 0.001 * (x[0]**2 + x[1]**2)**2\n",
        "    value = 0.5 + num / denom\n",
        "    return value"
      ],
      "metadata": {
        "id": "WAIEEEbhKPS3"
      },
      "execution_count": 7,
      "outputs": []
    },
    {
      "cell_type": "markdown",
      "source": [
        "##SFSA Algorithm (with Wave)"
      ],
      "metadata": {
        "id": "Gw_NMggZNS9A"
      }
    },
    {
      "cell_type": "markdown",
      "source": [
        "####Wave object"
      ],
      "metadata": {
        "id": "VMg0EYQsH3X7"
      }
    },
    {
      "cell_type": "code",
      "source": [
        "class Wave:\n",
        "    # initialization\n",
        "    def __init__(self, min_position, max_position, mean_arrival_rate, radius, duration):\n",
        "        self.min_position = min_position\n",
        "        self.max_position = max_position\n",
        "        self.mean_arrival_rate = mean_arrival_rate\n",
        "        self.radius = radius\n",
        "        self.position = None\n",
        "        self.triggered = False\n",
        "        self.duration = duration\n",
        "        self.wave_iterations = []\n",
        "\n",
        "    # generate a random position\n",
        "    def generate_random_position(self):\n",
        "        x = random.uniform(self.min_position, self.max_position)\n",
        "        y = random.uniform(self.min_position, self.max_position)\n",
        "        self.position = [x, y]\n",
        "\n",
        "    # poisson distribution to determine when the waves shall be triggered\n",
        "    def trigger_wave(self, iteration):\n",
        "        arrival_rate = np.random.poisson(self.mean_arrival_rate)\n",
        "        if arrival_rate > 0:\n",
        "            self.triggered = True\n",
        "            self.duration = 3\n",
        "            self.generate_random_position()\n",
        "            #print(f\"Wave triggered at iteration {iteration}\")\n",
        "\n",
        "    # updates the duration of the wave, if 0 then set to not triggered\n",
        "    def update_duration(self):\n",
        "        self.duration -= 1\n",
        "        if self.duration <= 0:\n",
        "            self.triggered = False\n",
        "\n",
        "    # plot wave into the plot\n",
        "    def plot_wave(self):\n",
        "        circle = plt.Circle((self.position[0], self.position[1]), self.radius, color='red', fill=False)\n",
        "        plt.gca().add_patch(circle)\n",
        "        plt.scatter(self.position[0], self.position[1], color='red', marker='x')\n",
        "        plt.xlim(self.min_position - 1, self.max_position + 1)\n",
        "        plt.ylim(self.min_position - 1, self.max_position + 1)\n",
        "        plt.gca().set_aspect('equal', adjustable='box')\n",
        "\n",
        "    # run the wave (trigger the wave and plot if triggered)\n",
        "    def run_wave(self, iteration):\n",
        "        self.trigger_wave(iteration)\n",
        "        if self.triggered:\n",
        "            #self.plot_wave()\n",
        "            self.wave_iterations.append(iteration)"
      ],
      "metadata": {
        "id": "BG4Efpj8EAkA"
      },
      "execution_count": 8,
      "outputs": []
    },
    {
      "cell_type": "markdown",
      "source": [
        "####Sandpiper object"
      ],
      "metadata": {
        "id": "QVjoUWyUH61r"
      }
    },
    {
      "cell_type": "code",
      "source": [
        "class Sandpiper_Wave:\n",
        "    # initialization\n",
        "    def __init__(self, function, position, min_position, max_position, vis_radius):\n",
        "        self.position = position\n",
        "        self.staying_duration = 1\n",
        "        self.best_position = position\n",
        "        self.min_position = min_position\n",
        "        self.max_position = max_position\n",
        "        self.vis_radius = vis_radius\n",
        "        self.function = function\n",
        "\n",
        "        # ***Additional***\n",
        "        self.previous_position = position\n",
        "        self.need_move_back_wave = False\n",
        "\n",
        "    # move to new position\n",
        "    def move(self, new_position):\n",
        "        new_x = max(self.min_position, min(self.max_position, new_position[0]))\n",
        "        new_y = max(self.min_position, min(self.max_position, new_position[1]))\n",
        "        self.previous_position = self.position\n",
        "        self.position = [new_x, new_y]\n",
        "\n",
        "    # calculate staying duration (increase by one if solution is better and decrease by 1 if worse if duration is ~=1)\n",
        "    def calc_staying_duration(self, new_position):\n",
        "        current_solution = self.function(self.position)\n",
        "        new_solution = self.function(new_position)\n",
        "        if new_solution < current_solution:\n",
        "            self.best_position = self.position\n",
        "            self.staying_duration += 1\n",
        "        elif new_solution == current_solution:\n",
        "            self.staying_duration = self.staying_duration\n",
        "        else:\n",
        "            if self.staying_duration <= 1:\n",
        "                self.staying_duration == 1\n",
        "            else:\n",
        "                self.staying_duration -= 1\n",
        "\n",
        "    # stay in current position\n",
        "    def stay(self):\n",
        "        self.staying_duration -= 1\n",
        "        return self.staying_duration\n",
        "\n",
        "    # update self's best position\n",
        "    def update_best_position(self, new_position):\n",
        "        if self.function(self.best_position) > self.function(new_position):\n",
        "            self.best_position = new_position\n",
        "\n",
        "    # Check if there is any wave within sandpiper's visibility radius\n",
        "    # *** Additional ***\n",
        "    def see_wave(self, wave):\n",
        "        if wave.triggered:\n",
        "            distance_to_wave = self.calculate_distance(self.position, wave.position)\n",
        "            return distance_to_wave < self.vis_radius + wave.radius\n",
        "        else:\n",
        "            return False\n",
        "\n",
        "    # Check if sandpiper is in the wave radius\n",
        "    # *** Additional ***\n",
        "    def is_inside_wave(self, wave):\n",
        "        if wave.triggered:\n",
        "            distance_to_wave = [self.position[0] - (wave.position[0] + wave.radius), self.position[1] - (wave.position[1] + wave.radius)]\n",
        "            return (distance_to_wave[0] < 0) & (distance_to_wave[1] < 0)\n",
        "        else:\n",
        "            return False\n",
        "\n",
        "    # calculate distance of 2 points\n",
        "    def calculate_distance(self, point1, point2):\n",
        "        return math.sqrt(sum((x - y) ** 2 for x, y in zip(point1, point2)))"
      ],
      "metadata": {
        "id": "8itJreS_EGr3"
      },
      "execution_count": 9,
      "outputs": []
    },
    {
      "cell_type": "markdown",
      "source": [
        "####SFSA Object"
      ],
      "metadata": {
        "id": "0oEB-4GlH-UD"
      }
    },
    {
      "cell_type": "code",
      "execution_count": 10,
      "metadata": {
        "id": "yfG-yduT_4Ei"
      },
      "outputs": [],
      "source": [
        "class SandpiperFoodSearch_Wave:\n",
        "    # initialization\n",
        "    def __init__(self, function, num_sp, min_position, max_position, vis_radius, weight, max_iter):\n",
        "        self.num_sp = num_sp\n",
        "        self.function = function\n",
        "        self.min_position = min_position\n",
        "        self.max_position = max_position\n",
        "        self.weight = weight\n",
        "        self.global_best_solutions = []\n",
        "        self.max_iter = max_iter\n",
        "\n",
        "        self.sandpipers = [Sandpiper_Wave(self.function, self.generate_random_point(), min_position, max_position, vis_radius) for _ in range(num_sp)]\n",
        "\n",
        "    # generate random point\n",
        "    def generate_random_point(self):\n",
        "        x = random.uniform(self.min_position, self.max_position)\n",
        "        y = random.uniform(self.min_position, self.max_position)\n",
        "        return [x, y]\n",
        "\n",
        "    # Find neighbors that are within the visibility range and not the given sandpiper\n",
        "    def evaluate_neighbors(self, sandpiper):\n",
        "        neighbors = []\n",
        "        for sp in self.sandpipers:\n",
        "            if sp != sandpiper and sp.calculate_distance(sandpiper.position, sp.position) <= sandpiper.vis_radius:\n",
        "                neighbors.append(sp)\n",
        "        return neighbors\n",
        "\n",
        "    # Avoid collision between sandpipers\n",
        "    def avoid_collision(self, new_position, current_sandpiper):\n",
        "        for sp in self.sandpipers:\n",
        "            if sp != current_sandpiper and sp.calculate_distance(new_position, sp.position) < 1:\n",
        "                angle = math.atan2(new_position[1] - sp.position[1], new_position[0] - sp.position[0])\n",
        "                distance = random.uniform(0.5, 0.5*sp.vis_radius)\n",
        "                new_position[0] = sp.position[0] + distance * math.cos(angle)\n",
        "                new_position[1] = sp.position[1] + distance * math.sin(angle)\n",
        "        return new_position\n",
        "\n",
        "    # move away from the wave\n",
        "    # *** Additional ***\n",
        "    def avoid_wave(self, sandpiper, wave):\n",
        "        # Calculate angle between sandpiper and wave\n",
        "        angle_to_wave = math.atan2(sandpiper.position[1] - wave.position[1], sandpiper.position[0] - wave.position[0])\n",
        "        distance = random.uniform(0.5, 0.5*sandpiper.vis_radius)\n",
        "        # Calculate a new position away from the wave (opposite direction)\n",
        "        opposite_angle = angle_to_wave + math.pi if angle_to_wave >= 0 else angle_to_wave - math.pi\n",
        "        new_x = sandpiper.position[0] + distance * math.cos(opposite_angle)\n",
        "        new_y = sandpiper.position[1] + distance * math.sin(opposite_angle)\n",
        "        new_position = [new_x, new_y]\n",
        "        # Avoid collision with other sandpipers\n",
        "        new_position = self.avoid_collision(new_position, sandpiper)\n",
        "        # Update sandpiper's position\n",
        "        sandpiper.move(new_position)\n",
        "        sandpiper.update_best_position(new_position)\n",
        "\n",
        "    # move to the wave edge if inside\n",
        "    # *** Additional ***\n",
        "    def move_to_wave_edge(self, sandpiper, wave):\n",
        "        if wave.triggered:\n",
        "            # Calculate angle between sandpiper and wave\n",
        "            angle_to_wave = math.atan2(sandpiper.position[1] - wave.position[1], sandpiper.position[0] - wave.position[0])\n",
        "            # Calculate a new position towards the edge of the wave\n",
        "            new_position = [sandpiper.position[0] + wave.radius * math.cos(angle_to_wave),\n",
        "                            sandpiper.position[1] + wave.radius * math.sin(angle_to_wave)]\n",
        "            # Avoid collision with other sandpipers\n",
        "            new_position = self.avoid_collision(new_position, sandpiper)\n",
        "            # Ensure the new position is within bounds\n",
        "            new_position = [\n",
        "                max(self.min_position, min(self.max_position, new_position[0])),\n",
        "                max(self.min_position, min(self.max_position, new_position[1]))\n",
        "            ]\n",
        "            # Update sandpiper's position\n",
        "            sandpiper.move(new_position)\n",
        "            sandpiper.update_best_position(new_position)\n",
        "\n",
        "\n",
        "\n",
        "    # move back to the position inside the wave if the wave is not trigerred\n",
        "    # *** Additional ***\n",
        "    def move_back_to_prev_pos(self, wave, sandpiper):\n",
        "        if not wave.triggered:\n",
        "            if sandpiper.need_move_back_wave:\n",
        "                # Calculate the direction vector between current position and previous position\n",
        "                direction_vector = [sandpiper.prev_position[0] - sandpiper.position[0],\n",
        "                                    sandpiper.prev_position[1] - sandpiper.position[1]]\n",
        "                # Calculate the new position with a small perturbation\n",
        "                error_x = random.uniform(-0.1, 0.1)  # Adjust the perturbation range as needed\n",
        "                error_y = random.uniform(-0.1, 0.1)\n",
        "                new_x = sandpiper.prev_position[0] + error_x\n",
        "                new_y = sandpiper.prev_position[1] + error_y\n",
        "\n",
        "                # Ensure the new position is within boundaries\n",
        "                new_x = max(self.min_position, min(self.max_position, new_x))\n",
        "                new_y = max(self.min_position, min(self.max_position, new_y))\n",
        "\n",
        "                sandpiper.calc_staying_duration([new_x, new_y])\n",
        "                sandpiper.move([new_x, new_y])\n",
        "                sandpiper.update_best_position([new_x, new_y])\n",
        "                sandpiper.need_move_back_wave = False\n",
        "\n",
        "    def move_to_neighbors(self, sandpiper, neighbors):\n",
        "            # The sandpiper shall move towards the best solution and their best staying neighbor according to the weights\n",
        "            best_position = sandpiper.best_position\n",
        "            direction_to_best_position = [best_position[0] - sandpiper.position[0],\n",
        "                                          best_position[1] - sandpiper.position[1]]\n",
        "\n",
        "            # Limit the direction vector to the visibility radius\n",
        "            magnitude_to_best_position = math.sqrt(direction_to_best_position[0] ** 2 + direction_to_best_position[1] ** 2)\n",
        "            if magnitude_to_best_position > sandpiper.vis_radius:\n",
        "                direction_to_best_position = [\n",
        "                    (sandpiper.vis_radius / magnitude_to_best_position) * direction_to_best_position[0],\n",
        "                    (sandpiper.vis_radius / magnitude_to_best_position) * direction_to_best_position[1]\n",
        "                ]\n",
        "\n",
        "            staying_neighbors_qualities = [sp.staying_duration for sp in neighbors]\n",
        "            best_staying_neighbor_index = staying_neighbors_qualities.index(max(staying_neighbors_qualities))\n",
        "            best_staying_neighbor = neighbors[best_staying_neighbor_index]\n",
        "\n",
        "            direction_to_best_staying_neighbor = [best_staying_neighbor.position[0] - sandpiper.position[0],\n",
        "                                                  best_staying_neighbor.position[1] - sandpiper.position[1]]\n",
        "\n",
        "            weighted_direction = [(1-self.weight) * direction_to_best_position[0] + self.weight * direction_to_best_staying_neighbor[0],\n",
        "                                  (1-self.weight) * direction_to_best_position[1] + self.weight * direction_to_best_staying_neighbor[1]]\n",
        "\n",
        "            # Ensuring that the sandpipers moves a consistent distance in each step\n",
        "            magnitude = math.sqrt(weighted_direction[0] ** 2 + weighted_direction[1] ** 2)\n",
        "\n",
        "            if magnitude == 0:\n",
        "                rand_angle = random.uniform(0, 2 * math.pi)\n",
        "                normalized_direction = [math.cos(rand_angle), math.sin(rand_angle)]\n",
        "            else:\n",
        "                normalized_direction = [weighted_direction[0] / magnitude, weighted_direction[1] / magnitude]\n",
        "\n",
        "            random_multiplier = random.uniform(0, sandpiper.vis_radius)\n",
        "\n",
        "            new_position = [sandpiper.position[0] + normalized_direction[0]*random_multiplier,\n",
        "                            sandpiper.position[1] + normalized_direction[1]*random_multiplier]\n",
        "\n",
        "            new_position = self.avoid_collision(new_position, self)\n",
        "            new_position = [max(self.min_position, min(self.max_position, new_position[0])),\n",
        "                            max(self.min_position, min(self.max_position, new_position[1]))]\n",
        "\n",
        "            sandpiper.calc_staying_duration(new_position)\n",
        "            sandpiper.move(new_position)\n",
        "            sandpiper.update_best_position(new_position)\n",
        "\n",
        "    # Move to a random direction within the visibility radius\n",
        "    def move_random(self, sandpiper):\n",
        "        rand_angle = random.uniform(0, 2 * math.pi)\n",
        "        distance = random.uniform(0.5, sandpiper.vis_radius)  # Limit the movement to visibility radius\n",
        "        new_position = [\n",
        "            sandpiper.position[0] + distance * math.cos(rand_angle),\n",
        "            sandpiper.position[1] + distance * math.sin(rand_angle)\n",
        "        ]\n",
        "\n",
        "        # Avoid collisions and stay within the boundaries\n",
        "        new_position = self.avoid_collision(new_position, self)\n",
        "        new_position = [\n",
        "            max(self.min_position, min(self.max_position, new_position[0])),\n",
        "            max(self.min_position, min(self.max_position, new_position[1]))\n",
        "        ]\n",
        "\n",
        "        # Update sandpiper's staying duration, position, and best position\n",
        "        sandpiper.calc_staying_duration(new_position)\n",
        "        sandpiper.move(new_position)\n",
        "        sandpiper.update_best_position(new_position)\n",
        "\n",
        "    # regular movement when wave is not triggered\n",
        "    # *** Additional ***\n",
        "    def regular_move(self, sandpiper):\n",
        "        if sandpiper.staying_duration <= 0: # If time to move\n",
        "        # Check neighbors\n",
        "            neighbors = self.evaluate_neighbors(sandpiper)\n",
        "            if neighbors:   # If there are neighbors within vis_radius\n",
        "                self.move_to_neighbors(sandpiper, neighbors)\n",
        "            else:   # If none, move randomly\n",
        "                self.move_random(sandpiper)\n",
        "        else:\n",
        "            sandpiper.stay()\n",
        "\n",
        "    # move all sandpipers\n",
        "    def move_sandpipers(self, wave):\n",
        "        for sandpiper in self.sandpipers:\n",
        "            if sandpiper.see_wave(wave):\n",
        "                if sandpiper.is_inside_wave(wave):\n",
        "                    # If inside the wave radius, move to the edge and stay until the wave disappears\n",
        "                    if wave.duration > 0:\n",
        "                        self.move_to_wave_edge(sandpiper, wave)\n",
        "                    # If the wave disappears and the edge solution is worse, move back to previous position\n",
        "                    else:\n",
        "                        self.move_back_to_prev_pos(sandpiper)\n",
        "                else:\n",
        "                    # If outside the wave radius, move away from the wave\n",
        "                    self.avoid_wave(sandpiper, wave)\n",
        "            else:\n",
        "                # If not seeing the wave, move regularly\n",
        "                self.regular_move(sandpiper)\n",
        "\n",
        "    # Save the best solution (for results purposes)\n",
        "    def get_best_solution(self):\n",
        "        solutions = []\n",
        "        for sp in self.sandpipers:\n",
        "            if (self.min_position <= sp.best_position[0] <= self.max_position) and (self.min_position <= sp.best_position[1] <= self.max_position):\n",
        "                solutions.append(self.function(sp.best_position))\n",
        "        return min(solutions)\n",
        "\n",
        "    def run(self, wave):\n",
        "        for i in range(0, self.max_iter):\n",
        "\n",
        "            wave.run_wave(i)\n",
        "\n",
        "            self.move_sandpipers(wave)\n",
        "\n",
        "            iter_best_solution = self.get_best_solution()\n",
        "            if i==0:\n",
        "                self.global_best_solutions.append(iter_best_solution)\n",
        "            else:\n",
        "                # Get the best solution at the current iteration\n",
        "                global_best_solution = self.global_best_solutions[-1]\n",
        "\n",
        "                if iter_best_solution < global_best_solution:\n",
        "                    self.global_best_solutions.append(iter_best_solution)\n",
        "                else:\n",
        "                    self.global_best_solutions.append(global_best_solution)\n",
        "\n",
        "            wave.update_duration()\n",
        "\n",
        "    # visualize simulation\n",
        "    def visualize(self, wave):\n",
        "        fig, ax = plt.subplots()\n",
        "\n",
        "        # Plot contour of the objective function\n",
        "        x = np.linspace(self.min_position, self.max_position, 400)\n",
        "        y = np.linspace(self.min_position, self.max_position, 400)\n",
        "        X, Y = np.meshgrid(x, y)\n",
        "        Z = self.function([X, Y])\n",
        "        cs = ax.contourf(X, Y, Z, levels=100, cmap='viridis', alpha=0.7)\n",
        "        fig.colorbar(cs)\n",
        "\n",
        "        def update(frame):\n",
        "            ax.clear()\n",
        "\n",
        "            wave.run_wave(frame)\n",
        "            if wave.triggered:\n",
        "                wave.plot_wave()\n",
        "\n",
        "            self.move_sandpipers(wave)\n",
        "\n",
        "            iter_best_solution = self.get_best_solution()\n",
        "            if frame==0:\n",
        "                self.global_best_solutions.append(iter_best_solution)\n",
        "            else:\n",
        "                  # Get the best solution at the current iteration\n",
        "                global_best_solution = self.global_best_solutions[-1]\n",
        "                if iter_best_solution < global_best_solution:\n",
        "                    self.global_best_solutions.append(iter_best_solution)\n",
        "                else:\n",
        "                    self.global_best_solutions.append(global_best_solution)\n",
        "\n",
        "            wave.update_duration()\n",
        "\n",
        "            x = np.linspace(self.min_position, self.max_position, 400)\n",
        "            y = np.linspace(self.min_position, self.max_position, 400)\n",
        "            X, Y = np.meshgrid(x, y)\n",
        "            Z = self.function([X, Y])\n",
        "            cs = ax.contourf(X, Y, Z, levels=50, cmap='viridis', alpha=0.7)\n",
        "\n",
        "            # Plot sandpipers\n",
        "            positions_x = [sandpiper.position[0] for sandpiper in self.sandpipers]\n",
        "            positions_y = [sandpiper.position[1] for sandpiper in self.sandpipers]\n",
        "            ax.scatter(positions_x, positions_y, color='blue')\n",
        "\n",
        "            # Set plot\n",
        "            ax.set_xlim(self.min_position, self.max_position)\n",
        "            ax.set_ylim(self.min_position, self.max_position)\n",
        "            ax.set_title(f'Iteration: {frame}')\n",
        "            ax.set_aspect('equal')  # Set equal aspect ratio\n",
        "\n",
        "        # save plot to gif\n",
        "        obj_fx_name = self.function.custom_attribute\n",
        "        ani = animation.FuncAnimation(fig, update, frames=max_iter, repeat=False)\n",
        "        ani.save(f'sfsa_wave_{obj_fx_name}.gif', writer='pillow', fps=5)\n",
        "\n"
      ]
    },
    {
      "cell_type": "markdown",
      "source": [
        "####Run Simulation"
      ],
      "metadata": {
        "id": "HNn_po5Pe-2k"
      }
    },
    {
      "cell_type": "code",
      "source": [
        "def run_simulations(test_function, num_simulations, max_iter, min_position, max_position, num_sandpipers, vis_radius, weight, wave_radius, mean_arrival_rate, wave_duration):\n",
        "    results_df = pd.DataFrame()\n",
        "\n",
        "    for i in range(num_simulations):\n",
        "        sandpiper_search_wave = SandpiperFoodSearch_Wave(test_function, num_sandpipers, min_position, max_position, vis_radius, weight, max_iter)\n",
        "        wave = Wave(min_position, max_position, mean_arrival_rate, wave_radius, wave_duration)\n",
        "\n",
        "        # Run simulation\n",
        "        #sandpiper_search_wave.visualize(wave)\n",
        "        sandpiper_search_wave.run(wave)\n",
        "\n",
        "        # Store results in DataFrame\n",
        "        column_name = f'Simulation_{i+1}'\n",
        "        results_df[column_name] = sandpiper_search_wave.global_best_solutions\n",
        "\n",
        "    return results_df"
      ],
      "metadata": {
        "id": "vZMGq2Q5ozNn"
      },
      "execution_count": 11,
      "outputs": []
    },
    {
      "cell_type": "markdown",
      "source": [
        "## Tests"
      ],
      "metadata": {
        "id": "wcAwwHulWfkb"
      }
    },
    {
      "cell_type": "markdown",
      "source": [
        "**Ackley**"
      ],
      "metadata": {
        "id": "AGTzvMkEWjTH"
      }
    },
    {
      "cell_type": "code",
      "source": [
        "# Simulation Time\n",
        "\n",
        "ackley_test_results = []\n",
        "A_runtime_list = []\n",
        "\n",
        "for i in range(0,100):\n",
        "\n",
        "    A_start = time.time()\n",
        "    ackley_test_results.append(run_simulations(ackley,1,100,-10,10,50,0.2*10,0.5,0.6*10,0.1,3))\n",
        "    A_end = time.time()\n",
        "    A_runtime_list.append(A_end-A_start)\n",
        "\n",
        "print(f'SFSA Ackley time = {np.mean(A_runtime_list)}')"
      ],
      "metadata": {
        "colab": {
          "base_uri": "https://localhost:8080/"
        },
        "id": "dMHvR09q3jTw",
        "outputId": "7673ce76-017c-467f-b81d-5c2779f17037"
      },
      "execution_count": 12,
      "outputs": [
        {
          "output_type": "stream",
          "name": "stdout",
          "text": [
            "SFSA Ackley time = 0.5744075202941894\n"
          ]
        }
      ]
    },
    {
      "cell_type": "code",
      "source": [
        "# Simulation Results\n",
        "\n",
        "no_agents = [25,50,75]\n",
        "num_simulations = 100\n",
        "\n",
        "df_ackley_tuning = {}\n",
        "\n",
        "for n in no_agents:\n",
        "    df_name = f\"Agent_{n}\"\n",
        "    df_ackley_tuning[df_name] = run_simulations(ackley,1,100,-10,10,n,0.2*10,0.5,0.6*10,0.1,3)\n",
        "\n",
        "# Save results to Excel file\n",
        "with pd.ExcelWriter('SFSA_Ackley_tuning.xlsx') as writer:\n",
        "    for df_name, df in df_ackley_tuning.items():\n",
        "        df.to_excel(writer, sheet_name=df_name, index=False)"
      ],
      "metadata": {
        "id": "uEikYuPyPkpn"
      },
      "execution_count": 13,
      "outputs": []
    },
    {
      "cell_type": "markdown",
      "source": [
        "**Holder Table**"
      ],
      "metadata": {
        "id": "i5G9U5enWpMH"
      }
    },
    {
      "cell_type": "code",
      "source": [
        "# Simulation Time\n",
        "\n",
        "holder_test_results = []\n",
        "HT_runtime_list = []\n",
        "\n",
        "for i in range(0,100):\n",
        "\n",
        "    HT_start = time.time()\n",
        "    holder_test_results.append(run_simulations(holder_table,1,100,-10,10,50,0.2*10,0.5,0.6*10,0.1,3))\n",
        "    HT_end = time.time()\n",
        "    HT_runtime_list.append(HT_end-HT_start)\n",
        "\n",
        "print(f'SFSA Holder time = {np.mean(HT_runtime_list)}')"
      ],
      "metadata": {
        "colab": {
          "base_uri": "https://localhost:8080/"
        },
        "id": "i33PUrky4cYu",
        "outputId": "0bd7cdab-0073-4d9e-d012-aaef15189e8a"
      },
      "execution_count": 14,
      "outputs": [
        {
          "output_type": "stream",
          "name": "stdout",
          "text": [
            "SFSA Holder time = 0.5347877788543701\n"
          ]
        }
      ]
    },
    {
      "cell_type": "code",
      "source": [
        "# Simulation Results\n",
        "\n",
        "no_agents = [25,50,75]\n",
        "\n",
        "df_HT_tuning = {}\n",
        "\n",
        "for n in no_agents:\n",
        "    df_name = f\"Agent_{n}\"\n",
        "    df_HT_tuning[df_name] = run_simulations(holder_table,1,100,-10,10,n,0.2*10,0.5,0.6*10,0.1,3)\n",
        "\n",
        "# Save results to Excel file\n",
        "with pd.ExcelWriter('SFSA_Holder_tuning.xlsx') as writer:\n",
        "    for df_name, df in df_HT_tuning.items():\n",
        "        df.to_excel(writer, sheet_name=df_name, index=False)"
      ],
      "metadata": {
        "id": "rtB6NgRNWlxO"
      },
      "execution_count": 15,
      "outputs": []
    },
    {
      "cell_type": "markdown",
      "source": [
        "**Rosenbrock**"
      ],
      "metadata": {
        "id": "bJfpIo5bXPzk"
      }
    },
    {
      "cell_type": "code",
      "source": [
        "# Simulation Time\n",
        "\n",
        "rosenbrock_test_results = []\n",
        "Ros_runtime_list = []\n",
        "\n",
        "for i in range(0,100):\n",
        "\n",
        "    Ros_start = time.time()\n",
        "    rosenbrock_test_results.append(run_simulations(rosenbrock,1,100,-5,10,50,0.2*10,0.5,0.6*10,0.1,3))\n",
        "    Ros_end = time.time()\n",
        "    Ros_runtime_list.append(Ros_end-Ros_start)\n",
        "\n",
        "print(f'SFSA Rosenbrock time = {np.mean(Ros_runtime_list)}')"
      ],
      "metadata": {
        "colab": {
          "base_uri": "https://localhost:8080/"
        },
        "id": "PifbKFtA4pBk",
        "outputId": "3cb8437e-e6e1-4d2b-ddd1-d1c24f762823"
      },
      "execution_count": 16,
      "outputs": [
        {
          "output_type": "stream",
          "name": "stdout",
          "text": [
            "SFSA Rosenbrock time = 0.36959071159362794\n"
          ]
        }
      ]
    },
    {
      "cell_type": "code",
      "source": [
        "# Simulation Results\n",
        "\n",
        "no_agents = [25,50,75]\n",
        "\n",
        "df_Ros_tuning = {}\n",
        "\n",
        "for n in no_agents:\n",
        "    df_name = f\"Agent_{n}\"\n",
        "    df_Ros_tuning[df_name] = run_simulations(rosenbrock,1,100,-5,10,n,0.2*10,0.5,0.6*10,0.1,3)\n",
        "\n",
        "# Save results to Excel file\n",
        "with pd.ExcelWriter('SFSA_Rosenbrock_tuning.xlsx') as writer:\n",
        "    for df_name, df in df_Ros_tuning.items():\n",
        "        df.to_excel(writer, sheet_name=df_name, index=False)"
      ],
      "metadata": {
        "id": "Q5VZ1_FuWnOG"
      },
      "execution_count": 25,
      "outputs": []
    },
    {
      "cell_type": "markdown",
      "source": [
        "**Griewank**"
      ],
      "metadata": {
        "id": "YoRksZf5XfyK"
      }
    },
    {
      "cell_type": "code",
      "source": [
        "# Simulation Time\n",
        "\n",
        "griewank_test_results = []\n",
        "G_runtime_list = []\n",
        "\n",
        "for i in range(0,100):\n",
        "\n",
        "    G_start = time.time()\n",
        "    griewank_test_results.append(run_simulations(griewank,1,100,-100,100,50,0.2*100,0.5,0.6*100,0.1,3))\n",
        "    G_end = time.time()\n",
        "    G_runtime_list.append(G_end-G_start)\n",
        "\n",
        "print(f'FA Griewank time = {np.mean(G_runtime_list)}')"
      ],
      "metadata": {
        "colab": {
          "base_uri": "https://localhost:8080/"
        },
        "id": "McLz8BWw40bE",
        "outputId": "43b6afc1-107a-44b9-8926-07b97444c756"
      },
      "execution_count": 18,
      "outputs": [
        {
          "output_type": "stream",
          "name": "stdout",
          "text": [
            "FA Griewank time = 0.48613079071044923\n"
          ]
        }
      ]
    },
    {
      "cell_type": "code",
      "source": [
        "# Simulation Results\n",
        "\n",
        "no_agents = [25,50,75]\n",
        "\n",
        "df_G_tuning = {}\n",
        "\n",
        "for n in no_agents:\n",
        "    df_name = f\"Agent_{n}\"\n",
        "    df_G_tuning[df_name] = run_simulations(griewank,1,100,-100,100,n,0.2*100,0.5,0.6*100,0.1,3)\n",
        "\n",
        "# Save results to Excel file\n",
        "with pd.ExcelWriter('SFSA_Griewank_tuning.xlsx') as writer:\n",
        "    for df_name, df in df_G_tuning.items():\n",
        "        df.to_excel(writer, sheet_name=df_name, index=False)"
      ],
      "metadata": {
        "id": "8XVemEStWoVs"
      },
      "execution_count": 19,
      "outputs": []
    },
    {
      "cell_type": "markdown",
      "source": [
        "**Rastrigin**"
      ],
      "metadata": {
        "id": "kl-V-V5kYI4s"
      }
    },
    {
      "cell_type": "code",
      "source": [
        "# Simulation Time\n",
        "\n",
        "rastrigin_test_results = []\n",
        "R_runtime_list = []\n",
        "\n",
        "for i in range(0,100):\n",
        "\n",
        "    R_start = time.time()\n",
        "    rastrigin_test_results.append(run_simulations(rastrigin,1,100,-5.12,5.12,50,0.2*5.12,0.5,0.6*5.12,0.1,3))\n",
        "    R_end = time.time()\n",
        "    R_runtime_list.append(R_end-R_start)\n",
        "\n",
        "print(f'FA Rastrigin time = {np.mean(R_runtime_list)}')"
      ],
      "metadata": {
        "colab": {
          "base_uri": "https://localhost:8080/"
        },
        "id": "MzMjW4sc8PRC",
        "outputId": "e275b024-c237-4493-faac-2c77a1659041"
      },
      "execution_count": 20,
      "outputs": [
        {
          "output_type": "stream",
          "name": "stdout",
          "text": [
            "FA Rastrigin time = 0.4709895443916321\n"
          ]
        }
      ]
    },
    {
      "cell_type": "code",
      "source": [
        "# Simulation Results\n",
        "\n",
        "no_agents = [25,50,75]\n",
        "\n",
        "df_Ras_tuning = {}\n",
        "\n",
        "for n in no_agents:\n",
        "    df_name = f\"Agent_{n}\"\n",
        "    df_Ras_tuning[df_name] = run_simulations(rastrigin,1,100,-5.12,5.12,n,0.2*5.12,0.5,0.6*5.12,0.1,3)\n",
        "\n",
        "# Save results to Excel file\n",
        "with pd.ExcelWriter('SFSA_Rastrigin_tuning.xlsx') as writer:\n",
        "    for df_name, df in df_Ras_tuning.items():\n",
        "        df.to_excel(writer, sheet_name=df_name, index=False)"
      ],
      "metadata": {
        "id": "g5VGFUOQYI4s"
      },
      "execution_count": 21,
      "outputs": []
    },
    {
      "cell_type": "markdown",
      "source": [
        "**Schaffer No.2**"
      ],
      "metadata": {
        "id": "3cHTZlHPYKmS"
      }
    },
    {
      "cell_type": "code",
      "source": [
        "# Simulation Time\n",
        "\n",
        "schaffer_test_results = []\n",
        "Sc_runtime_list = []\n",
        "\n",
        "for i in range(0,100):\n",
        "\n",
        "    Sc_start = time.time()\n",
        "    schaffer_test_results.append(run_simulations(schaffer_no_2,1,100,-100,100,50,0.2*100,0.5,0.6*100,0.1,3))\n",
        "    Sc_end = time.time()\n",
        "    Sc_runtime_list.append(Sc_end-Sc_start)\n",
        "\n",
        "print(f'FA Schaffer time = {np.mean(Sc_runtime_list)}')"
      ],
      "metadata": {
        "id": "T4P-gjkH8f-9",
        "colab": {
          "base_uri": "https://localhost:8080/"
        },
        "outputId": "db99e11f-829d-4c37-b420-a247f58648c7"
      },
      "execution_count": 22,
      "outputs": [
        {
          "output_type": "stream",
          "name": "stdout",
          "text": [
            "FA Schaffer time = 0.43503193378448485\n"
          ]
        }
      ]
    },
    {
      "cell_type": "code",
      "source": [
        "# Simulation Results\n",
        "\n",
        "no_agents = [25,50,75]\n",
        "\n",
        "df_Sc_tuning = {}\n",
        "\n",
        "for n in no_agents:\n",
        "    df_name = f\"Agent_{n}\"\n",
        "    df_Sc_tuning[df_name] = run_simulations(schaffer_no_2,1,100,-100,100,n,0.2*100,0.5,0.6*100,0.1,3)\n",
        "\n",
        "# Save results to Excel file\n",
        "with pd.ExcelWriter('SFSA_SchafferNo2_tuning.xlsx') as writer:\n",
        "    for df_name, df in df_Sc_tuning.items():\n",
        "        df.to_excel(writer, sheet_name=df_name, index=False)"
      ],
      "metadata": {
        "id": "Zyvfl9ceYKmS"
      },
      "execution_count": 23,
      "outputs": []
    },
    {
      "cell_type": "markdown",
      "source": [
        "## Runtime Summary"
      ],
      "metadata": {
        "id": "_MhLG35lunVg"
      }
    },
    {
      "cell_type": "code",
      "source": [
        "import pandas as pd\n",
        "\n",
        "data = {\n",
        "    'Function': ['Ackley', 'Holder Table', 'Griewank', 'Rastrigin'],\n",
        "    'SFSA': [np.mean(A_runtime_list),np.mean(HT_runtime_list),np.mean(G_runtime_list),np.mean(R_runtime_list)]\n",
        "}\n",
        "\n",
        "df = pd.DataFrame(data, columns=['Function', 'SFSA'])\n",
        "\n",
        "df"
      ],
      "metadata": {
        "colab": {
          "base_uri": "https://localhost:8080/",
          "height": 175
        },
        "id": "G6nJv1YoupSm",
        "outputId": "c14f0c4a-fc24-4567-91a2-739c9ec10795"
      },
      "execution_count": 24,
      "outputs": [
        {
          "output_type": "execute_result",
          "data": {
            "text/plain": [
              "       Function      SFSA\n",
              "0        Ackley  0.574408\n",
              "1  Holder Table  0.534788\n",
              "2      Griewank  0.486131\n",
              "3     Rastrigin  0.470990"
            ],
            "text/html": [
              "\n",
              "  <div id=\"df-2393d12f-a966-44fa-b4bd-2f4b1c126e8b\" class=\"colab-df-container\">\n",
              "    <div>\n",
              "<style scoped>\n",
              "    .dataframe tbody tr th:only-of-type {\n",
              "        vertical-align: middle;\n",
              "    }\n",
              "\n",
              "    .dataframe tbody tr th {\n",
              "        vertical-align: top;\n",
              "    }\n",
              "\n",
              "    .dataframe thead th {\n",
              "        text-align: right;\n",
              "    }\n",
              "</style>\n",
              "<table border=\"1\" class=\"dataframe\">\n",
              "  <thead>\n",
              "    <tr style=\"text-align: right;\">\n",
              "      <th></th>\n",
              "      <th>Function</th>\n",
              "      <th>SFSA</th>\n",
              "    </tr>\n",
              "  </thead>\n",
              "  <tbody>\n",
              "    <tr>\n",
              "      <th>0</th>\n",
              "      <td>Ackley</td>\n",
              "      <td>0.574408</td>\n",
              "    </tr>\n",
              "    <tr>\n",
              "      <th>1</th>\n",
              "      <td>Holder Table</td>\n",
              "      <td>0.534788</td>\n",
              "    </tr>\n",
              "    <tr>\n",
              "      <th>2</th>\n",
              "      <td>Griewank</td>\n",
              "      <td>0.486131</td>\n",
              "    </tr>\n",
              "    <tr>\n",
              "      <th>3</th>\n",
              "      <td>Rastrigin</td>\n",
              "      <td>0.470990</td>\n",
              "    </tr>\n",
              "  </tbody>\n",
              "</table>\n",
              "</div>\n",
              "    <div class=\"colab-df-buttons\">\n",
              "\n",
              "  <div class=\"colab-df-container\">\n",
              "    <button class=\"colab-df-convert\" onclick=\"convertToInteractive('df-2393d12f-a966-44fa-b4bd-2f4b1c126e8b')\"\n",
              "            title=\"Convert this dataframe to an interactive table.\"\n",
              "            style=\"display:none;\">\n",
              "\n",
              "  <svg xmlns=\"http://www.w3.org/2000/svg\" height=\"24px\" viewBox=\"0 -960 960 960\">\n",
              "    <path d=\"M120-120v-720h720v720H120Zm60-500h600v-160H180v160Zm220 220h160v-160H400v160Zm0 220h160v-160H400v160ZM180-400h160v-160H180v160Zm440 0h160v-160H620v160ZM180-180h160v-160H180v160Zm440 0h160v-160H620v160Z\"/>\n",
              "  </svg>\n",
              "    </button>\n",
              "\n",
              "  <style>\n",
              "    .colab-df-container {\n",
              "      display:flex;\n",
              "      gap: 12px;\n",
              "    }\n",
              "\n",
              "    .colab-df-convert {\n",
              "      background-color: #E8F0FE;\n",
              "      border: none;\n",
              "      border-radius: 50%;\n",
              "      cursor: pointer;\n",
              "      display: none;\n",
              "      fill: #1967D2;\n",
              "      height: 32px;\n",
              "      padding: 0 0 0 0;\n",
              "      width: 32px;\n",
              "    }\n",
              "\n",
              "    .colab-df-convert:hover {\n",
              "      background-color: #E2EBFA;\n",
              "      box-shadow: 0px 1px 2px rgba(60, 64, 67, 0.3), 0px 1px 3px 1px rgba(60, 64, 67, 0.15);\n",
              "      fill: #174EA6;\n",
              "    }\n",
              "\n",
              "    .colab-df-buttons div {\n",
              "      margin-bottom: 4px;\n",
              "    }\n",
              "\n",
              "    [theme=dark] .colab-df-convert {\n",
              "      background-color: #3B4455;\n",
              "      fill: #D2E3FC;\n",
              "    }\n",
              "\n",
              "    [theme=dark] .colab-df-convert:hover {\n",
              "      background-color: #434B5C;\n",
              "      box-shadow: 0px 1px 3px 1px rgba(0, 0, 0, 0.15);\n",
              "      filter: drop-shadow(0px 1px 2px rgba(0, 0, 0, 0.3));\n",
              "      fill: #FFFFFF;\n",
              "    }\n",
              "  </style>\n",
              "\n",
              "    <script>\n",
              "      const buttonEl =\n",
              "        document.querySelector('#df-2393d12f-a966-44fa-b4bd-2f4b1c126e8b button.colab-df-convert');\n",
              "      buttonEl.style.display =\n",
              "        google.colab.kernel.accessAllowed ? 'block' : 'none';\n",
              "\n",
              "      async function convertToInteractive(key) {\n",
              "        const element = document.querySelector('#df-2393d12f-a966-44fa-b4bd-2f4b1c126e8b');\n",
              "        const dataTable =\n",
              "          await google.colab.kernel.invokeFunction('convertToInteractive',\n",
              "                                                    [key], {});\n",
              "        if (!dataTable) return;\n",
              "\n",
              "        const docLinkHtml = 'Like what you see? Visit the ' +\n",
              "          '<a target=\"_blank\" href=https://colab.research.google.com/notebooks/data_table.ipynb>data table notebook</a>'\n",
              "          + ' to learn more about interactive tables.';\n",
              "        element.innerHTML = '';\n",
              "        dataTable['output_type'] = 'display_data';\n",
              "        await google.colab.output.renderOutput(dataTable, element);\n",
              "        const docLink = document.createElement('div');\n",
              "        docLink.innerHTML = docLinkHtml;\n",
              "        element.appendChild(docLink);\n",
              "      }\n",
              "    </script>\n",
              "  </div>\n",
              "\n",
              "\n",
              "    <div id=\"df-5c9d3542-3c06-4d57-a3bb-ac35cb413436\">\n",
              "      <button class=\"colab-df-quickchart\" onclick=\"quickchart('df-5c9d3542-3c06-4d57-a3bb-ac35cb413436')\"\n",
              "                title=\"Suggest charts\"\n",
              "                style=\"display:none;\">\n",
              "\n",
              "<svg xmlns=\"http://www.w3.org/2000/svg\" height=\"24px\"viewBox=\"0 0 24 24\"\n",
              "     width=\"24px\">\n",
              "    <g>\n",
              "        <path d=\"M19 3H5c-1.1 0-2 .9-2 2v14c0 1.1.9 2 2 2h14c1.1 0 2-.9 2-2V5c0-1.1-.9-2-2-2zM9 17H7v-7h2v7zm4 0h-2V7h2v10zm4 0h-2v-4h2v4z\"/>\n",
              "    </g>\n",
              "</svg>\n",
              "      </button>\n",
              "\n",
              "<style>\n",
              "  .colab-df-quickchart {\n",
              "      --bg-color: #E8F0FE;\n",
              "      --fill-color: #1967D2;\n",
              "      --hover-bg-color: #E2EBFA;\n",
              "      --hover-fill-color: #174EA6;\n",
              "      --disabled-fill-color: #AAA;\n",
              "      --disabled-bg-color: #DDD;\n",
              "  }\n",
              "\n",
              "  [theme=dark] .colab-df-quickchart {\n",
              "      --bg-color: #3B4455;\n",
              "      --fill-color: #D2E3FC;\n",
              "      --hover-bg-color: #434B5C;\n",
              "      --hover-fill-color: #FFFFFF;\n",
              "      --disabled-bg-color: #3B4455;\n",
              "      --disabled-fill-color: #666;\n",
              "  }\n",
              "\n",
              "  .colab-df-quickchart {\n",
              "    background-color: var(--bg-color);\n",
              "    border: none;\n",
              "    border-radius: 50%;\n",
              "    cursor: pointer;\n",
              "    display: none;\n",
              "    fill: var(--fill-color);\n",
              "    height: 32px;\n",
              "    padding: 0;\n",
              "    width: 32px;\n",
              "  }\n",
              "\n",
              "  .colab-df-quickchart:hover {\n",
              "    background-color: var(--hover-bg-color);\n",
              "    box-shadow: 0 1px 2px rgba(60, 64, 67, 0.3), 0 1px 3px 1px rgba(60, 64, 67, 0.15);\n",
              "    fill: var(--button-hover-fill-color);\n",
              "  }\n",
              "\n",
              "  .colab-df-quickchart-complete:disabled,\n",
              "  .colab-df-quickchart-complete:disabled:hover {\n",
              "    background-color: var(--disabled-bg-color);\n",
              "    fill: var(--disabled-fill-color);\n",
              "    box-shadow: none;\n",
              "  }\n",
              "\n",
              "  .colab-df-spinner {\n",
              "    border: 2px solid var(--fill-color);\n",
              "    border-color: transparent;\n",
              "    border-bottom-color: var(--fill-color);\n",
              "    animation:\n",
              "      spin 1s steps(1) infinite;\n",
              "  }\n",
              "\n",
              "  @keyframes spin {\n",
              "    0% {\n",
              "      border-color: transparent;\n",
              "      border-bottom-color: var(--fill-color);\n",
              "      border-left-color: var(--fill-color);\n",
              "    }\n",
              "    20% {\n",
              "      border-color: transparent;\n",
              "      border-left-color: var(--fill-color);\n",
              "      border-top-color: var(--fill-color);\n",
              "    }\n",
              "    30% {\n",
              "      border-color: transparent;\n",
              "      border-left-color: var(--fill-color);\n",
              "      border-top-color: var(--fill-color);\n",
              "      border-right-color: var(--fill-color);\n",
              "    }\n",
              "    40% {\n",
              "      border-color: transparent;\n",
              "      border-right-color: var(--fill-color);\n",
              "      border-top-color: var(--fill-color);\n",
              "    }\n",
              "    60% {\n",
              "      border-color: transparent;\n",
              "      border-right-color: var(--fill-color);\n",
              "    }\n",
              "    80% {\n",
              "      border-color: transparent;\n",
              "      border-right-color: var(--fill-color);\n",
              "      border-bottom-color: var(--fill-color);\n",
              "    }\n",
              "    90% {\n",
              "      border-color: transparent;\n",
              "      border-bottom-color: var(--fill-color);\n",
              "    }\n",
              "  }\n",
              "</style>\n",
              "\n",
              "      <script>\n",
              "        async function quickchart(key) {\n",
              "          const quickchartButtonEl =\n",
              "            document.querySelector('#' + key + ' button');\n",
              "          quickchartButtonEl.disabled = true;  // To prevent multiple clicks.\n",
              "          quickchartButtonEl.classList.add('colab-df-spinner');\n",
              "          try {\n",
              "            const charts = await google.colab.kernel.invokeFunction(\n",
              "                'suggestCharts', [key], {});\n",
              "          } catch (error) {\n",
              "            console.error('Error during call to suggestCharts:', error);\n",
              "          }\n",
              "          quickchartButtonEl.classList.remove('colab-df-spinner');\n",
              "          quickchartButtonEl.classList.add('colab-df-quickchart-complete');\n",
              "        }\n",
              "        (() => {\n",
              "          let quickchartButtonEl =\n",
              "            document.querySelector('#df-5c9d3542-3c06-4d57-a3bb-ac35cb413436 button');\n",
              "          quickchartButtonEl.style.display =\n",
              "            google.colab.kernel.accessAllowed ? 'block' : 'none';\n",
              "        })();\n",
              "      </script>\n",
              "    </div>\n",
              "\n",
              "  <div id=\"id_2a8dfe7f-d6e8-4d98-afb9-dded98a7ad64\">\n",
              "    <style>\n",
              "      .colab-df-generate {\n",
              "        background-color: #E8F0FE;\n",
              "        border: none;\n",
              "        border-radius: 50%;\n",
              "        cursor: pointer;\n",
              "        display: none;\n",
              "        fill: #1967D2;\n",
              "        height: 32px;\n",
              "        padding: 0 0 0 0;\n",
              "        width: 32px;\n",
              "      }\n",
              "\n",
              "      .colab-df-generate:hover {\n",
              "        background-color: #E2EBFA;\n",
              "        box-shadow: 0px 1px 2px rgba(60, 64, 67, 0.3), 0px 1px 3px 1px rgba(60, 64, 67, 0.15);\n",
              "        fill: #174EA6;\n",
              "      }\n",
              "\n",
              "      [theme=dark] .colab-df-generate {\n",
              "        background-color: #3B4455;\n",
              "        fill: #D2E3FC;\n",
              "      }\n",
              "\n",
              "      [theme=dark] .colab-df-generate:hover {\n",
              "        background-color: #434B5C;\n",
              "        box-shadow: 0px 1px 3px 1px rgba(0, 0, 0, 0.15);\n",
              "        filter: drop-shadow(0px 1px 2px rgba(0, 0, 0, 0.3));\n",
              "        fill: #FFFFFF;\n",
              "      }\n",
              "    </style>\n",
              "    <button class=\"colab-df-generate\" onclick=\"generateWithVariable('df')\"\n",
              "            title=\"Generate code using this dataframe.\"\n",
              "            style=\"display:none;\">\n",
              "\n",
              "  <svg xmlns=\"http://www.w3.org/2000/svg\" height=\"24px\"viewBox=\"0 0 24 24\"\n",
              "       width=\"24px\">\n",
              "    <path d=\"M7,19H8.4L18.45,9,17,7.55,7,17.6ZM5,21V16.75L18.45,3.32a2,2,0,0,1,2.83,0l1.4,1.43a1.91,1.91,0,0,1,.58,1.4,1.91,1.91,0,0,1-.58,1.4L9.25,21ZM18.45,9,17,7.55Zm-12,3A5.31,5.31,0,0,0,4.9,8.1,5.31,5.31,0,0,0,1,6.5,5.31,5.31,0,0,0,4.9,4.9,5.31,5.31,0,0,0,6.5,1,5.31,5.31,0,0,0,8.1,4.9,5.31,5.31,0,0,0,12,6.5,5.46,5.46,0,0,0,6.5,12Z\"/>\n",
              "  </svg>\n",
              "    </button>\n",
              "    <script>\n",
              "      (() => {\n",
              "      const buttonEl =\n",
              "        document.querySelector('#id_2a8dfe7f-d6e8-4d98-afb9-dded98a7ad64 button.colab-df-generate');\n",
              "      buttonEl.style.display =\n",
              "        google.colab.kernel.accessAllowed ? 'block' : 'none';\n",
              "\n",
              "      buttonEl.onclick = () => {\n",
              "        google.colab.notebook.generateWithVariable('df');\n",
              "      }\n",
              "      })();\n",
              "    </script>\n",
              "  </div>\n",
              "\n",
              "    </div>\n",
              "  </div>\n"
            ],
            "application/vnd.google.colaboratory.intrinsic+json": {
              "type": "dataframe",
              "variable_name": "df",
              "summary": "{\n  \"name\": \"df\",\n  \"rows\": 4,\n  \"fields\": [\n    {\n      \"column\": \"Function\",\n      \"properties\": {\n        \"dtype\": \"string\",\n        \"num_unique_values\": 4,\n        \"samples\": [\n          \"Holder Table\",\n          \"Rastrigin\",\n          \"Ackley\"\n        ],\n        \"semantic_type\": \"\",\n        \"description\": \"\"\n      }\n    },\n    {\n      \"column\": \"SFSA\",\n      \"properties\": {\n        \"dtype\": \"number\",\n        \"std\": 0.047191769403703655,\n        \"min\": 0.4709895443916321,\n        \"max\": 0.5744075202941894,\n        \"num_unique_values\": 4,\n        \"samples\": [\n          0.5347877788543701,\n          0.4709895443916321,\n          0.5744075202941894\n        ],\n        \"semantic_type\": \"\",\n        \"description\": \"\"\n      }\n    }\n  ]\n}"
            }
          },
          "metadata": {},
          "execution_count": 24
        }
      ]
    }
  ]
}